{
  "nbformat": 4,
  "nbformat_minor": 0,
  "metadata": {
    "colab": {
      "provenance": []
    },
    "kernelspec": {
      "name": "python3",
      "display_name": "Python 3"
    },
    "language_info": {
      "name": "python"
    }
  },
  "cells": [
    {
      "cell_type": "code",
      "execution_count": 1,
      "metadata": {
        "colab": {
          "base_uri": "https://localhost:8080/"
        },
        "id": "AG5QWt1fWNvR",
        "outputId": "81a52afa-f312-4eeb-b844-fa98eb839a4e"
      },
      "outputs": [
        {
          "output_type": "stream",
          "name": "stdout",
          "text": [
            "Welcome to Villaxlnc\n"
          ]
        }
      ],
      "source": [
        "print(\"Welcome to Villaxlnc\")"
      ]
    },
    {
      "cell_type": "code",
      "source": [
        "# Integer\n",
        "1, 5, 12345678, -10234"
      ],
      "metadata": {
        "id": "ZzKt1zHJW25_"
      },
      "execution_count": null,
      "outputs": []
    },
    {
      "cell_type": "code",
      "source": [
        "# Float\n",
        "0.125, 3.142, -7.5"
      ],
      "metadata": {
        "id": "pW5sZVO4XJLF"
      },
      "execution_count": 2,
      "outputs": []
    },
    {
      "cell_type": "code",
      "source": [
        "# String\n",
        "\"Radiance\", 'RADIANC12345[;/].E'"
      ],
      "metadata": {
        "id": "0GCpfeCmXddS"
      },
      "execution_count": null,
      "outputs": []
    },
    {
      "cell_type": "code",
      "source": [
        "123, 123.0, '123'"
      ],
      "metadata": {
        "id": "tRP9gZAvXKK5"
      },
      "execution_count": null,
      "outputs": []
    },
    {
      "cell_type": "code",
      "source": [
        "# Bytes\n",
        "b\"radiance\""
      ],
      "metadata": {
        "id": "lElHJjkVYIix"
      },
      "execution_count": null,
      "outputs": []
    },
    {
      "cell_type": "code",
      "source": [
        "len(\"1234567 8888\")"
      ],
      "metadata": {
        "colab": {
          "base_uri": "https://localhost:8080/"
        },
        "id": "kgaCms7vYk2q",
        "outputId": "9d93014a-165b-4826-9d78-b5e13bef7913"
      },
      "execution_count": 7,
      "outputs": [
        {
          "output_type": "execute_result",
          "data": {
            "text/plain": [
              "12"
            ]
          },
          "metadata": {},
          "execution_count": 7
        }
      ]
    },
    {
      "cell_type": "code",
      "source": [
        "# Docstring\n",
        "'''\n",
        "\n",
        "this\n",
        "\n",
        "this\n",
        "\n",
        "\n",
        "\n",
        "'''"
      ],
      "metadata": {
        "id": "2RcNzd-_Yt0F"
      },
      "execution_count": null,
      "outputs": []
    },
    {
      "cell_type": "code",
      "source": [
        "print(\"Welcome\")\n",
        "# 1 + 3, this is a comment\n",
        "print(4 + 5)"
      ],
      "metadata": {
        "colab": {
          "base_uri": "https://localhost:8080/"
        },
        "id": "qzOB-shtacHo",
        "outputId": "6e168646-0a4e-43e4-abc0-3b11924098b4"
      },
      "execution_count": 8,
      "outputs": [
        {
          "output_type": "stream",
          "name": "stdout",
          "text": [
            "Welcome\n",
            "9\n"
          ]
        }
      ]
    },
    {
      "cell_type": "code",
      "source": [
        "# Boolean\n",
        "True, False"
      ],
      "metadata": {
        "id": "VxEDvG6rb7cS"
      },
      "execution_count": null,
      "outputs": []
    },
    {
      "cell_type": "code",
      "source": [
        "# List: mutable collection of items\n",
        "len([\"string\", 123, 12.3])"
      ],
      "metadata": {
        "colab": {
          "base_uri": "https://localhost:8080/"
        },
        "id": "V-eBQloPa74O",
        "outputId": "27287139-e42a-4653-b043-3fb5983c0c55"
      },
      "execution_count": 10,
      "outputs": [
        {
          "output_type": "execute_result",
          "data": {
            "text/plain": [
              "3"
            ]
          },
          "metadata": {},
          "execution_count": 10
        }
      ]
    },
    {
      "cell_type": "code",
      "source": [
        "# Tuple: immutable collection of items\n",
        "(True, 524, 934.3)"
      ],
      "metadata": {
        "colab": {
          "base_uri": "https://localhost:8080/"
        },
        "id": "jnd5qI6McgKQ",
        "outputId": "ba80d542-10bd-4f55-f1fa-5e371a00b9cf"
      },
      "execution_count": 11,
      "outputs": [
        {
          "output_type": "execute_result",
          "data": {
            "text/plain": [
              "(True, 524, 934.3)"
            ]
          },
          "metadata": {},
          "execution_count": 11
        }
      ]
    },
    {
      "cell_type": "code",
      "source": [
        "# Variable declaration\n",
        "name = \"Radiance\""
      ],
      "metadata": {
        "id": "Y3i-ij5Scp_C"
      },
      "execution_count": 12,
      "outputs": []
    },
    {
      "cell_type": "code",
      "source": [
        "name = \"joy\""
      ],
      "metadata": {
        "id": "qWSW164Ef_RL"
      },
      "execution_count": 14,
      "outputs": []
    },
    {
      "cell_type": "code",
      "source": [
        "name"
      ],
      "metadata": {
        "colab": {
          "base_uri": "https://localhost:8080/",
          "height": 35
        },
        "id": "gSAvmYqXgJhX",
        "outputId": "87469766-06cf-42cc-c39e-a4cf8258f1b0"
      },
      "execution_count": 15,
      "outputs": [
        {
          "output_type": "execute_result",
          "data": {
            "text/plain": [
              "'joy'"
            ],
            "application/vnd.google.colaboratory.intrinsic+json": {
              "type": "string"
            }
          },
          "metadata": {},
          "execution_count": 15
        }
      ]
    },
    {
      "cell_type": "code",
      "source": [
        "age = 12"
      ],
      "metadata": {
        "id": "tiJNHMzsgKEW"
      },
      "execution_count": 16,
      "outputs": []
    },
    {
      "cell_type": "code",
      "source": [
        "age = \"Radiance\""
      ],
      "metadata": {
        "id": "pMu_thHsinz8"
      },
      "execution_count": 17,
      "outputs": []
    },
    {
      "cell_type": "code",
      "source": [
        "age"
      ],
      "metadata": {
        "colab": {
          "base_uri": "https://localhost:8080/",
          "height": 35
        },
        "id": "QAMiCdHOir43",
        "outputId": "d1abb0e8-687b-441f-db1c-ef73faa10637"
      },
      "execution_count": 18,
      "outputs": [
        {
          "output_type": "execute_result",
          "data": {
            "text/plain": [
              "'Radiance'"
            ],
            "application/vnd.google.colaboratory.intrinsic+json": {
              "type": "string"
            }
          },
          "metadata": {},
          "execution_count": 18
        }
      ]
    },
    {
      "cell_type": "code",
      "source": [
        "basket = [\n",
        "    \"apple\", \"mango\", \"orange\", \"pineapple\"\n",
        "]\n",
        "\n",
        "print(basket)"
      ],
      "metadata": {
        "colab": {
          "base_uri": "https://localhost:8080/"
        },
        "id": "acO2sLvxitU5",
        "outputId": "4ad97eef-b1b0-4f62-ccc7-2dfb91c723b4"
      },
      "execution_count": 25,
      "outputs": [
        {
          "output_type": "stream",
          "name": "stdout",
          "text": [
            "['apple', 'mango', 'orange', 'pineapple']\n"
          ]
        }
      ]
    },
    {
      "cell_type": "code",
      "source": [
        "basket.append(\"apple\")"
      ],
      "metadata": {
        "id": "2YnN01eHkza7"
      },
      "execution_count": 23,
      "outputs": []
    },
    {
      "cell_type": "code",
      "source": [
        "print(basket)"
      ],
      "metadata": {
        "colab": {
          "base_uri": "https://localhost:8080/"
        },
        "id": "33F8cE4ek_3V",
        "outputId": "0452bb1f-f511-4ec5-f661-bc437511f7e5"
      },
      "execution_count": 26,
      "outputs": [
        {
          "output_type": "stream",
          "name": "stdout",
          "text": [
            "['apple', 'mango', 'orange', 'pineapple']\n"
          ]
        }
      ]
    },
    {
      "cell_type": "code",
      "source": [
        "basket2 = (\n",
        "    \"apple\", \"mango\", \"orange\", \"pineapple\"\n",
        ")\n",
        "\n",
        "print(basket2)"
      ],
      "metadata": {
        "colab": {
          "base_uri": "https://localhost:8080/"
        },
        "id": "wFouhfxmlBvt",
        "outputId": "63f539d6-d99e-43b2-d524-c25fb79a6249"
      },
      "execution_count": 22,
      "outputs": [
        {
          "output_type": "stream",
          "name": "stdout",
          "text": [
            "('apple', 'mango', 'orange', 'pineapple')\n"
          ]
        }
      ]
    },
    {
      "cell_type": "code",
      "source": [
        "# Set\n",
        "{\"Radiance\", 123, 123.23}"
      ],
      "metadata": {
        "colab": {
          "base_uri": "https://localhost:8080/"
        },
        "id": "U4K83JxcnsXK",
        "outputId": "d3b31979-f129-4c16-bf9a-4ad74da50f34"
      },
      "execution_count": 27,
      "outputs": [
        {
          "output_type": "execute_result",
          "data": {
            "text/plain": [
              "{123, 123.23, 'Radiance'}"
            ]
          },
          "metadata": {},
          "execution_count": 27
        }
      ]
    },
    {
      "cell_type": "code",
      "source": [
        "A = {1, 2, 3, 4, 5, 6, 7, 8}\n",
        "B = {2, 4, 6, 8}\n",
        "\n",
        "A.difference(B)"
      ],
      "metadata": {
        "colab": {
          "base_uri": "https://localhost:8080/"
        },
        "id": "4FEdYzZ5n2I8",
        "outputId": "de592a61-6e45-42d1-8f10-5b0d338f1460"
      },
      "execution_count": 37,
      "outputs": [
        {
          "output_type": "execute_result",
          "data": {
            "text/plain": [
              "{1, 3, 5, 7}"
            ]
          },
          "metadata": {},
          "execution_count": 37
        }
      ]
    },
    {
      "cell_type": "code",
      "source": [
        "S = {\"apple\", \"grape\", \"pineapple\", \"mango\"}\n",
        "T = {\"grape\", \"mango\", \"orange\"}\n",
        "\n",
        "T.difference(S)"
      ],
      "metadata": {
        "colab": {
          "base_uri": "https://localhost:8080/"
        },
        "id": "U8KkH4QQoVTe",
        "outputId": "0d3bcaeb-f851-4f5f-f2c2-557a7806e387"
      },
      "execution_count": 31,
      "outputs": [
        {
          "output_type": "execute_result",
          "data": {
            "text/plain": [
              "{'orange'}"
            ]
          },
          "metadata": {},
          "execution_count": 31
        }
      ]
    },
    {
      "cell_type": "code",
      "source": [
        "basket"
      ],
      "metadata": {
        "colab": {
          "base_uri": "https://localhost:8080/"
        },
        "id": "apGivjykoz9I",
        "outputId": "6b28c165-b2a4-453a-8d0d-4403fb1cb77b"
      },
      "execution_count": 34,
      "outputs": [
        {
          "output_type": "execute_result",
          "data": {
            "text/plain": [
              "['apple', 'mango', 'orange', 'pineapple', 'apple']"
            ]
          },
          "metadata": {},
          "execution_count": 34
        }
      ]
    },
    {
      "cell_type": "code",
      "source": [
        "set(basket)"
      ],
      "metadata": {
        "colab": {
          "base_uri": "https://localhost:8080/"
        },
        "id": "L4ryUSUro_5o",
        "outputId": "03124603-27cb-41d6-9878-7fe7dce0dc87"
      },
      "execution_count": 35,
      "outputs": [
        {
          "output_type": "execute_result",
          "data": {
            "text/plain": [
              "{'apple', 'mango', 'orange', 'pineapple'}"
            ]
          },
          "metadata": {},
          "execution_count": 35
        }
      ]
    },
    {
      "cell_type": "code",
      "source": [],
      "metadata": {
        "id": "TYV5VZ11p5S7"
      },
      "execution_count": null,
      "outputs": []
    },
    {
      "cell_type": "code",
      "source": [
        "#\n",
        "username = input(\"Enter your name: \")"
      ],
      "metadata": {
        "colab": {
          "base_uri": "https://localhost:8080/"
        },
        "id": "NMy4rukMlIvb",
        "outputId": "9bbe572e-904b-426b-b4bc-98d06c243511"
      },
      "execution_count": 44,
      "outputs": [
        {
          "name": "stdout",
          "output_type": "stream",
          "text": [
            "Enter your name: Joy\n"
          ]
        }
      ]
    },
    {
      "cell_type": "code",
      "source": [
        "username"
      ],
      "metadata": {
        "colab": {
          "base_uri": "https://localhost:8080/",
          "height": 35
        },
        "id": "XgU_wGWuqByv",
        "outputId": "4ad73c12-458e-41eb-90fc-91b540d8151d"
      },
      "execution_count": 45,
      "outputs": [
        {
          "output_type": "execute_result",
          "data": {
            "text/plain": [
              "'Joy'"
            ],
            "application/vnd.google.colaboratory.intrinsic+json": {
              "type": "string"
            }
          },
          "metadata": {},
          "execution_count": 45
        }
      ]
    },
    {
      "cell_type": "code",
      "source": [
        "# Camel case\n",
        "firstName = \"Radiance\""
      ],
      "metadata": {
        "id": "bJHLuf1YrOvY"
      },
      "execution_count": 46,
      "outputs": []
    },
    {
      "cell_type": "code",
      "source": [
        "# Pascal case\n",
        "FirstName = \"Joy\""
      ],
      "metadata": {
        "id": "GDxhgrxqrgX3"
      },
      "execution_count": 47,
      "outputs": []
    },
    {
      "cell_type": "code",
      "source": [
        "# Snake case\n",
        "first_name = \"Refuge\""
      ],
      "metadata": {
        "id": "219-YC4qruaa"
      },
      "execution_count": null,
      "outputs": []
    },
    {
      "cell_type": "markdown",
      "source": [
        "[A-Za-z_][A-Za-z_0-9]\n",
        "\n",
        "Syntax for naming identifiers in Python\n",
        "\n",
        "identifiers:\n",
        "- variable names\n",
        "- function names"
      ],
      "metadata": {
        "id": "MmJmJLlRsNbM"
      }
    },
    {
      "cell_type": "code",
      "source": [
        "onename = \"Radiance\"\n",
        "# 1name = \"Radiance\"  # Will return error"
      ],
      "metadata": {
        "id": "lzYJ7NMZuo6Z"
      },
      "execution_count": null,
      "outputs": []
    },
    {
      "cell_type": "code",
      "source": [
        "list_of_name = [\n",
        "    \"Joy\", \"Sadiq\", \"Emmanuel\", \"Bayo\"\n",
        "]\n",
        "\n",
        "username = input(\"Enter your name: \")\n",
        "\n",
        "# Control flow\n",
        "if username in list_of_name:\n",
        "  print(\"Welcome\", username)\n",
        "else:\n",
        "  print(\"Name you entered isn't found\")"
      ],
      "metadata": {
        "colab": {
          "base_uri": "https://localhost:8080/"
        },
        "id": "TL6fg8EHqhXU",
        "outputId": "c05bed61-5f4c-473d-8884-91b65bf879ee"
      },
      "execution_count": 51,
      "outputs": [
        {
          "output_type": "stream",
          "name": "stdout",
          "text": [
            "Enter your name: bayo\n",
            "Name you entered isn't found\n"
          ]
        }
      ]
    }
  ]
}